{
 "cells": [
  {
   "cell_type": "markdown",
   "metadata": {},
   "source": [
    "# Introduction"
   ]
  },
  {
   "cell_type": "markdown",
   "metadata": {},
   "source": [
    "The purpose of the project is to understand the possible serverity of a car accident given the address type, location, road and weather condition, etc. This allow drivers to thoroughly evaluate condition and more careful in situations with high serverity level, reducing collisions, and give government an understanding on what type of road conditions need to be fix or add sign to reduce accident."
   ]
  },
  {
   "cell_type": "markdown",
   "metadata": {},
   "source": [
    "# Data"
   ]
  },
  {
   "cell_type": "markdown",
   "metadata": {},
   "source": [
    "The collision data is provided by SPD and recorded by Traffic Records. "
   ]
  },
  {
   "cell_type": "markdown",
   "metadata": {},
   "source": [
    "The data will be used are:\n",
    "1. Collision address type: including Alley, Block, and Intersection\n",
    "2. SEVERITYCODE: 3—fatality\n",
    "                 2b—serious injury\n",
    "                 2—injury\n",
    "                 1—prop damage\n",
    "                 0—unknown \n",
    "3. COLLISIONTYPE\n",
    "4. WEATHER: weather conditions \n",
    "5. ROADCOND: condition of the road during the collision\n",
    "6. LIGHTCOND: The light conditions during the collision\n",
    "7. SPEEDING: Whether or not speeding was a factor in the collision(Y/N)"
   ]
  },
  {
   "cell_type": "code",
   "execution_count": null,
   "metadata": {},
   "outputs": [],
   "source": []
  }
 ],
 "metadata": {
  "kernelspec": {
   "display_name": "Python",
   "language": "python",
   "name": "conda-env-python-py"
  },
  "language_info": {
   "codemirror_mode": {
    "name": "ipython",
    "version": 3
   },
   "file_extension": ".py",
   "mimetype": "text/x-python",
   "name": "python",
   "nbconvert_exporter": "python",
   "pygments_lexer": "ipython3",
   "version": "3.6.11"
  }
 },
 "nbformat": 4,
 "nbformat_minor": 4
}
